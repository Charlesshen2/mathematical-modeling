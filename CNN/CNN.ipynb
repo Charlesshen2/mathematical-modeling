{
 "cells": [
  {
   "cell_type": "code",
   "execution_count": 24,
   "id": "487e7537",
   "metadata": {
    "pycharm": {
     "name": "#%%\n"
    }
   },
   "outputs": [],
   "source": [
    "\"\"\"\n",
    "卷积神经网络的pytorch实践代码\n",
    "\n",
    "\"\"\"\n",
    "\n",
    "'part 1:build a module'\n",
    "\n",
    "\n",
    "from torch import nn, optim\n",
    "\n",
    "#设定超参数\n",
    "INPUT_SIZE=3200\n",
    "HIDDEN_SIZE=256\n",
    "NUM_CLASSES=10\n",
    "EPOCHS=5\n",
    "BATCH_SIZE=64\n",
    "LEARNING_RATE=1e-3\n",
    "\n",
    "\n",
    "class CNN(nn.Module):\n",
    "    '''\n",
    "    custom CNN\n",
    "    '''\n",
    "    \n",
    "    def __init__(self,input_size,hidden_size,num_classes):\n",
    "        super(CNN,self).__init__()\n",
    "        \n",
    "        self.conv_1=nn.Conv2d(in_channels=1,out_channels=32,kernel_size=3)\n",
    "        \n",
    "        self.conv_2=nn.Conv2d(in_channels=32,out_channels=64,kernel_size=3)\n",
    "        \n",
    "        self.cov_3=nn.Conv2d(in_channels=64,out_channels=128,kernel_size=2,padding=1)\n",
    "        \n",
    "        self.relu=nn.ReLU()\n",
    "        \n",
    "        self.max_pool=nn.MaxPool2d(kernel_size=2,stride=2)\n",
    "        \n",
    "         #多维数据的降维函数\n",
    "        self.flatten=nn.Flatten()\n",
    "        \n",
    "        self.l1=nn.Linear(input_size, hidden_size)\n",
    "        \n",
    "        self.l2=nn.Linear(hidden_size, num_classes)\n",
    "        \n",
    "        \n",
    "    def forward(self,x):\n",
    "        \n",
    "        out=self.conv_1(x)\n",
    "        out=self.relu(out)\n",
    "        out=self.max_pool(out)\n",
    "        \n",
    "        out=self.conv_2(out)\n",
    "        out=self.relu(out)\n",
    "        out=self.max_pool(out)\n",
    "        \n",
    "        out=self.conv_3(out)\n",
    "        out=self.relu(out)\n",
    "        out=self.max_pool(out)\n",
    "        \n",
    "        out=self.flatten(out)\n",
    "        \n",
    "        out=self.l1(out)\n",
    "        out=self.relu(out)\n",
    "        out=self.l2(out)\n",
    "        \n",
    "        return out\n",
    "    \n",
    "#init model    \n",
    "model=CNN(INPUT_SIZE,HIDDEN_SIZE,NUM_CLASSES)\n",
    "\n",
    "#init criterion\n",
    "criterion=nn.CrossEntropyLoss()\n",
    "\n",
    "#init optim\n",
    "optimizer=optim.Adam(model.parameters(), lr=LEARNING_RATE)\n",
    "        "
   ]
  },
  {
   "cell_type": "code",
   "execution_count": 25,
   "id": "d064e57c",
   "metadata": {
    "pycharm": {
     "name": "#%%\n"
    }
   },
   "outputs": [],
   "source": [
    "\n",
    "'part 2:reading data'\n",
    "\n",
    "\n",
    "#reading data\n",
    "import pandas as pd\n",
    "\n",
    "train_data=pd.read_csv('')\n",
    "test_data=pd.read_csv('')\n",
    "\n",
    "X_train=train_data[train_data.columns[1:]]\n",
    "Y_train=train_data['label']\n",
    "\n",
    "X_test=test_data[test_data.columns[1:]]\n",
    "Y_test=test_data['label']\n"
   ]
  },
  {
   "cell_type": "code",
   "execution_count": 26,
   "id": "c87ce818",
   "metadata": {
    "pycharm": {
     "name": "#%%\n"
    }
   },
   "outputs": [],
   "source": [
    "'part 3:preprocessing data'\n",
    "\n",
    "\n",
    "from sklearn.preprocessing import StandardScaler\n",
    "\n",
    "\n",
    "#init SS\n",
    "ss=StandardScaler()\n",
    "\n",
    "#standard data\n",
    "X_train=ss.fit_transform(X_train)\n",
    "\n",
    "#standard label\n",
    "X_test=ss.transform(X_test)\n"
   ]
  },
  {
   "cell_type": "code",
   "execution_count": 27,
   "id": "23ab05e0",
   "metadata": {
    "pycharm": {
     "name": "#%%\n"
    }
   },
   "outputs": [
    {
     "name": "stdout",
     "output_type": "stream",
     "text": [
      "Epoch[1/5],Step[300/938],Loss:0.6327\n",
      "Epoch[1/5],Step[600/938],Loss:0.1956\n",
      "Epoch[1/5],Step[900/938],Loss:0.2434\n",
      "Epoch[2/5],Step[300/938],Loss:0.2541\n",
      "Epoch[2/5],Step[600/938],Loss:0.1374\n",
      "Epoch[2/5],Step[900/938],Loss:0.1461\n",
      "Epoch[3/5],Step[300/938],Loss:0.3722\n",
      "Epoch[3/5],Step[600/938],Loss:0.1735\n",
      "Epoch[3/5],Step[900/938],Loss:0.2618\n",
      "Epoch[4/5],Step[300/938],Loss:0.3861\n",
      "Epoch[4/5],Step[600/938],Loss:0.1013\n",
      "Epoch[4/5],Step[900/938],Loss:0.1977\n",
      "Epoch[5/5],Step[300/938],Loss:0.1009\n",
      "Epoch[5/5],Step[600/938],Loss:0.1182\n",
      "Epoch[5/5],Step[900/938],Loss:0.1477\n"
     ]
    }
   ],
   "source": [
    "'part 3:training data'\n",
    "\n",
    "\n",
    "import torch \n",
    "from torch.utils.data import TensorDataset, DataLoader\n",
    "\n",
    "\n",
    "#create a data structure which fit torch\n",
    "train_tensor=TensorDataset(torch.tensor(X_train.astype('float32')),\n",
    "                           torch.tensor(Y_train.values))\n",
    "\n",
    "#create a data reading way \n",
    "train_loader=DataLoader(train_tensor, batch_size=BATCH_SIZE,shuffle=True)\n",
    "\n",
    "n_total_steps=len(train_loader)\n",
    "\n",
    "\n",
    "#start training\n",
    "model.train()\n",
    "\n",
    "\n",
    "for epoch in range(EPOCHS):\n",
    "    for i,(features,labels) in enumerate(train_loader):\n",
    "        images=features.reshape([-1,1,28,28])\n",
    "        outputs=model(images)\n",
    "        loss=criterion(outputs, labels)\n",
    "        \n",
    "        \n",
    "        optimizer.zero_grad()\n",
    "        loss.backward()\n",
    "        optimizer.step()\n",
    "        \n",
    "        if(i+1)%300==0:\n",
    "            print(f'Epoch[{epoch+1}/{EPOCHS}],Step[{i+1}/{n_total_steps}],Loss:{loss.item():.4f}')\n",
    "    \n"
   ]
  },
  {
   "cell_type": "code",
   "execution_count": 28,
   "id": "94e2eda4",
   "metadata": {
    "pycharm": {
     "name": "#%%\n"
    }
   },
   "outputs": [
    {
     "name": "stdout",
     "output_type": "stream",
     "text": [
      "卷积神经网络（PyTorch版本）在fashion_mnist测试集上的准确率为: 90.56%。\n"
     ]
    }
   ],
   "source": [
    "#构建适用于PyTorch模型测试的数据结构。\n",
    "test_tensor = TensorDataset(torch.tensor(X_test.astype('float32')), torch.tensor(Y_test.values))\n",
    "\n",
    "#构建适用于PyTorch模型测试的数据读取器。\n",
    "test_loader = DataLoader(dataset = test_tensor, batch_size = BATCH_SIZE, shuffle = False)\n",
    "\n",
    "#开启模型测试。\n",
    "model.eval()\n",
    "\n",
    "n_correct = 0\n",
    "n_samples = 0\n",
    "\n",
    "for features, labels in test_loader:\n",
    "    images = features.reshape([-1, 1, 28, 28])\n",
    "    outputs = model(images)\n",
    "    _, predictions = torch.max(outputs.data, 1)\n",
    "    \n",
    "    n_samples += labels.size(0)\n",
    "    n_correct += (predictions == labels).sum().item() \n",
    "\n",
    "acc = 100.0 * n_correct / n_samples\n",
    "print('卷积神经网络（PyTorch版本）在fashion_mnist测试集上的准确率为: %.2f%%。' %acc) "
   ]
  },
  {
   "cell_type": "code",
   "execution_count": 1,
   "id": "93dae22b",
   "metadata": {
    "pycharm": {
     "name": "#%%\n"
    }
   },
   "outputs": [
    {
     "name": "stdout",
     "output_type": "stream",
     "text": [
      "[ 7.2647162  -9.64806344]\n"
     ]
    }
   ],
   "source": [
    "import numpy as np\n",
    "\n",
    "x = np.array([5, 10, 15, 20, 25])\n",
    "y = np.array([3, 6, 9, 12, 15 ])\n",
    "\n",
    "log_x = np.log(x)\n",
    "log_y = np.log(y)\n",
    "\n",
    "coefficients = np.polyfit(log_x, y, 1)\n",
    "print(coefficients)"
   ]
  },
  {
   "cell_type": "code",
   "execution_count": 5,
   "id": "0eaad208",
   "metadata": {
    "pycharm": {
     "name": "#%%\n"
    }
   },
   "outputs": [
    {
     "data": {
      "text/plain": "<numpy.core._internal._ctypes at 0x10ad72490>"
     },
     "execution_count": 5,
     "metadata": {},
     "output_type": "execute_result"
    }
   ],
   "source": [
    "import numpy as np\n",
    "np.random.rand(1)"
   ]
  },
  {
   "cell_type": "code",
   "execution_count": 5,
   "outputs": [
    {
     "data": {
      "text/plain": "dict_keys(['二元1', '二元2', '多元1', '多元2'])"
     },
     "execution_count": 5,
     "metadata": {},
     "output_type": "execute_result"
    }
   ],
   "source": [
    "import pandas as pd\n",
    "all = pd.read_excel('/Users/shenfeiyang/Documents/GitHub/mathematical-modeling/data/B_data.xlsx',sheet_name=None)\n",
    "all.keys()"
   ],
   "metadata": {
    "collapsed": false,
    "pycharm": {
     "name": "#%%\n"
    }
   }
  },
  {
   "cell_type": "code",
   "execution_count": 7,
   "outputs": [
    {
     "data": {
      "text/plain": "<bound method DataFrame.info of     0  0.1  0.2  1  0.3  1.1\n0   1    1    1  0    1    0\n1   1    0    0  1    0    0\n2   1    0    1  1    1    0\n3   1    1    1  0    1    1\n4   1    0    0  0    0    1\n.. ..  ...  ... ..  ...  ...\n74  0    1    0  1    1    1\n75  0    1    1  0    1    0\n76  1    1    1  1    0    0\n77  1    1    0  0    0    1\n78  1    0    0  0    0    0\n\n[79 rows x 6 columns]>"
     },
     "execution_count": 7,
     "metadata": {},
     "output_type": "execute_result"
    }
   ],
   "source": [
    "all['二元1'].info"
   ],
   "metadata": {
    "collapsed": false,
    "pycharm": {
     "name": "#%%\n"
    }
   }
  },
  {
   "cell_type": "code",
   "execution_count": 1,
   "outputs": [
    {
     "name": "stderr",
     "output_type": "stream",
     "text": [
      "/opt/anaconda3/envs/torch_nightly_env/lib/python3.8/site-packages/scipy/__init__.py:146: UserWarning: A NumPy version >=1.16.5 and <1.23.0 is required for this version of SciPy (detected version 1.23.5\n",
      "  warnings.warn(f\"A NumPy version >={np_minversion} and <{np_maxversion}\"\n"
     ]
    }
   ],
   "source": [
    "from sklearn import svm\n",
    "predictor = svm.SVC(gamma='scale', C=1.0, decision_function_shape='ovr', kernel='rbf')"
   ],
   "metadata": {
    "collapsed": false,
    "pycharm": {
     "name": "#%%\n"
    }
   }
  },
  {
   "cell_type": "code",
   "execution_count": 4,
   "outputs": [
    {
     "name": "stdout",
     "output_type": "stream",
     "text": [
      "[-1.   -0.25  0.5   1.25  2.  ]\n"
     ]
    }
   ],
   "source": [
    "import numpy as np\n",
    "a = np.linspace(-1,2,5)\n",
    "print(a)"
   ],
   "metadata": {
    "collapsed": false,
    "pycharm": {
     "name": "#%%\n"
    }
   }
  },
  {
   "cell_type": "code",
   "execution_count": 9,
   "outputs": [
    {
     "data": {
      "text/plain": "<Figure size 432x288 with 3 Axes>",
      "image/png": "[encoded data removed]"
     },
     "metadata": {
      "needs_background": "light"
     },
     "output_type": "display_data"
    }
   ],
   "source": [
    "import numpy as np\n",
    "import matplotlib.pyplot as plt\n",
    "x = np.linspace(0,2*np.pi,200)\n",
    "y1 = np.sin(x)\n",
    "y2 = np.cos(x)\n",
    "y3 = np.tan(x)\n",
    "ax1 = plt.subplot(1,3,1)\n",
    "ax1.plot(x, y1)\n",
    "ax2 = plt.subplot(1,3,2)\n",
    "ax2.plot(x, y2)\n",
    "ax3 = plt.subplot(1,3,3)\n",
    "ax3.plot(x, y3)\n",
    "plt.show()"
   ],
   "metadata": {
    "collapsed": false,
    "pycharm": {
     "name": "#%%\n"
    }
   }
  },
  {
   "cell_type": "code",
   "execution_count": null,
   "outputs": [],
   "source": [],
   "metadata": {
    "collapsed": false,
    "pycharm": {
     "name": "#%%\n"
    }
   }
  }
 ],
 "metadata": {
  "kernelspec": {
   "display_name": "Python 3 (ipykernel)",
   "language": "python",
   "name": "python3"
  },
  "language_info": {
   "codemirror_mode": {
    "name": "ipython",
    "version": 3
   },
   "file_extension": ".py",
   "mimetype": "text/x-python",
   "name": "python",
   "nbconvert_exporter": "python",
   "pygments_lexer": "ipython3",
   "version": "3.9.12"
  }
 },
 "nbformat": 4,
 "nbformat_minor": 5
}