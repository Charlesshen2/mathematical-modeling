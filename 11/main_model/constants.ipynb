{
 "cells": [
  {
   "cell_type": "code",
   "execution_count": 1,
   "metadata": {
    "pycharm": {
     "name": "#%%\n"
    }
   },
   "outputs": [],
   "source": [
    "# length in x-axis; width in y-axis; height in z-axis\n",
    "class RotationType:\n",
    "    RT_LWH = 0\n",
    "    RT_HLW = 1\n",
    "    RT_HWL = 2\n",
    "    RT_WHL = 3\n",
    "    RT_WLH = 4\n",
    "    RT_LHW = 5\n",
    "    \n",
    "    ALL = [RT_LWH, RT_HLW, RT_HWL, RT_WHL, RT_WLH, RT_LHW]"
   ]
  },
  {
   "cell_type": "code",
   "execution_count": 2,
   "metadata": {
    "pycharm": {
     "name": "#%%\n"
    }
   },
   "outputs": [],
   "source": [
    "# (x, y, z) --> (length, width, height)\n",
    "class Axis:\n",
    "    LENGTH = 0\n",
    "    WIDTH = 1\n",
    "    HEIGHT = 2\n",
    "    \n",
    "    ALL = [LENGTH, WIDTH, HEIGHT]"
   ]
  }
 ],
 "metadata": {
  "kernelspec": {
   "name": "python3",
   "language": "python",
   "display_name": "Python 3 (ipykernel)"
  },
  "language_info": {
   "codemirror_mode": {
    "name": "ipython",
    "version": 3
   },
   "file_extension": ".py",
   "mimetype": "text/x-python",
   "name": "python",
   "nbconvert_exporter": "python",
   "pygments_lexer": "ipython3",
   "version": "3.7.4"
  }
 },
 "nbformat": 4,
 "nbformat_minor": 4
}